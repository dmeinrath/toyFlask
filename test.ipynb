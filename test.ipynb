{
 "cells": [
  {
   "cell_type": "code",
   "execution_count": 1,
   "metadata": {
    "collapsed": true
   },
   "outputs": [],
   "source": [
    "import requests\n",
    "import ipywidgets as widgets\n",
    "import IPython.display\n",
    "import pandas as pd\n",
    "import math\n",
    "import os\n",
    "import time"
   ]
  },
  {
   "cell_type": "code",
   "execution_count": 29,
   "outputs": [
    {
     "data": {
      "text/plain": "   Baseload_baro_clean  Baseload_cit_clean  Baseload_cpd_clean\n0            15.042039           38.807115          233.324697\n1            15.040953           38.818570          232.953808\n2            15.039868           38.830025          232.932536\n3            15.038782           38.841480          232.934928\n4            15.037697           38.852934          232.618335",
      "text/html": "<div>\n<style scoped>\n    .dataframe tbody tr th:only-of-type {\n        vertical-align: middle;\n    }\n\n    .dataframe tbody tr th {\n        vertical-align: top;\n    }\n\n    .dataframe thead th {\n        text-align: right;\n    }\n</style>\n<table border=\"1\" class=\"dataframe\">\n  <thead>\n    <tr style=\"text-align: right;\">\n      <th></th>\n      <th>Baseload_baro_clean</th>\n      <th>Baseload_cit_clean</th>\n      <th>Baseload_cpd_clean</th>\n    </tr>\n  </thead>\n  <tbody>\n    <tr>\n      <th>0</th>\n      <td>15.042039</td>\n      <td>38.807115</td>\n      <td>233.324697</td>\n    </tr>\n    <tr>\n      <th>1</th>\n      <td>15.040953</td>\n      <td>38.818570</td>\n      <td>232.953808</td>\n    </tr>\n    <tr>\n      <th>2</th>\n      <td>15.039868</td>\n      <td>38.830025</td>\n      <td>232.932536</td>\n    </tr>\n    <tr>\n      <th>3</th>\n      <td>15.038782</td>\n      <td>38.841480</td>\n      <td>232.934928</td>\n    </tr>\n    <tr>\n      <th>4</th>\n      <td>15.037697</td>\n      <td>38.852934</td>\n      <td>232.618335</td>\n    </tr>\n  </tbody>\n</table>\n</div>"
     },
     "metadata": {},
     "output_type": "display_data"
    },
    {
     "data": {
      "text/plain": "HBox(children=(Button(description='Upload Data', style=ButtonStyle()), FloatProgress(value=0.0, max=1.0)))",
      "application/vnd.jupyter.widget-view+json": {
       "version_major": 2,
       "version_minor": 0,
       "model_id": "0de75150e0c5475caf6c7cd086cbbd9e"
      }
     },
     "metadata": {},
     "output_type": "display_data"
    },
    {
     "data": {
      "text/plain": "Output()",
      "application/vnd.jupyter.widget-view+json": {
       "version_major": 2,
       "version_minor": 0,
       "model_id": "8c3026b63bba4c40883a9412c0584659"
      }
     },
     "metadata": {},
     "output_type": "display_data"
    }
   ],
   "source": [
    "url = 'http://localhost:5000/upload'\n",
    "\n",
    "\n",
    "button = widgets.Button(description=\"Upload Data\")\n",
    "progress = widgets.FloatProgress(value=0.0, min=0.0, max=1.0)\n",
    "output = widgets.Output()\n",
    "\n",
    "\n",
    "ui_row = widgets.HBox([button,progress])\n",
    "dataframe = pd.read_pickle('./ml_data.pkl')\n",
    "\n",
    "display(dataframe.head(5), ui_row, output)\n",
    "\n",
    "def upload_chunks(file_path, chunk_length):\n",
    "    with open(file_path, 'rb') as file:\n",
    "        start = 0\n",
    "        file_size = os.path.getsize(file_path)\n",
    "\n",
    "        headers = {\"Filename\": os.path.basename(file_path)}\n",
    "        chunk_count = math.ceil(float(file_size) / chunk_length)\n",
    "        print(\"Total chunk count:\", chunk_count)\n",
    "        retry_timeout = 1\n",
    "        sent_chunk_count = 0\n",
    "        while True:\n",
    "            end = min(file_size, start + chunk_length)\n",
    "            headers['Range'] = \"bytes={}-{}/{}\".format(start, end, file_size)\n",
    "            file.seek(start)\n",
    "            data = file.read(chunk_length)\n",
    "            start = end\n",
    "            try:\n",
    "                response = requests.post(url, headers=headers, data=data)\n",
    "                if response.ok:\n",
    "                    print('{}. chunk sent to server'.format(sent_chunk_count + 1))\n",
    "                    sent_chunk_count += 1\n",
    "                    progress.value = float(sent_chunk_count)/float(chunk_count)\n",
    "            except requests.exceptions.RequestException:\n",
    "                time.sleep(retry_timeout)\n",
    "                if retry_timeout < 10:\n",
    "                    retry_timeout += 1\n",
    "                continue\n",
    "            if sent_chunk_count >= chunk_count:\n",
    "                return True\n",
    "        return False\n",
    "\n",
    "def on_post_button_clicked(b):\n",
    "    with output:\n",
    "        x = upload_chunks('./ml_data.pkl', 4096)\n",
    "        requests.get('http://localhost:5000/read')\n",
    "\n",
    "button.on_click(on_post_button_clicked)"
   ],
   "metadata": {
    "collapsed": false
   }
  },
  {
   "cell_type": "markdown",
   "source": [],
   "metadata": {
    "collapsed": false
   }
  }
 ],
 "metadata": {
  "kernelspec": {
   "display_name": "Python 3",
   "language": "python",
   "name": "python3"
  },
  "language_info": {
   "codemirror_mode": {
    "name": "ipython",
    "version": 2
   },
   "file_extension": ".py",
   "mimetype": "text/x-python",
   "name": "python",
   "nbconvert_exporter": "python",
   "pygments_lexer": "ipython2",
   "version": "2.7.6"
  }
 },
 "nbformat": 4,
 "nbformat_minor": 0
}
