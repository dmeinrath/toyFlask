{
 "cells": [
  {
   "cell_type": "code",
   "execution_count": 4,
   "metadata": {
    "collapsed": true
   },
   "outputs": [],
   "source": [
    "import requests\n",
    "import ipywidgets as widgets\n",
    "import IPython.display"
   ]
  },
  {
   "cell_type": "code",
   "execution_count": 9,
   "outputs": [
    {
     "data": {
      "text/plain": "Text(value='mydata', description='Data:', placeholder='Type something')",
      "application/vnd.jupyter.widget-view+json": {
       "version_major": 2,
       "version_minor": 0,
       "model_id": "9e4cdaffc9bc4b72b88e3ade5fd26439"
      }
     },
     "metadata": {},
     "output_type": "display_data"
    },
    {
     "data": {
      "text/plain": "Button(description='POST data', style=ButtonStyle())",
      "application/vnd.jupyter.widget-view+json": {
       "version_major": 2,
       "version_minor": 0,
       "model_id": "7da2911e53a74f24868f38f6280e6b49"
      }
     },
     "metadata": {},
     "output_type": "display_data"
    },
    {
     "data": {
      "text/plain": "Output()",
      "application/vnd.jupyter.widget-view+json": {
       "version_major": 2,
       "version_minor": 0,
       "model_id": "770a83d6957f49d2a66c6a34e6c8d0c7"
      }
     },
     "metadata": {},
     "output_type": "display_data"
    }
   ],
   "source": [
    "url = 'http://127.0.0.1:5000/test'\n",
    "\n",
    "data_box = widgets.Text(\n",
    "    value='mydata',\n",
    "    placeholder='Type something',\n",
    "    description='Data:',\n",
    "    disabled=False\n",
    ")\n",
    "button = widgets.Button(description=\"POST data\")\n",
    "output = widgets.Output()\n",
    "\n",
    "display(data_box, button, output)\n",
    "\n",
    "def on_post_button_clicked(b):\n",
    "    with output:\n",
    "        x = requests.post(url, data = data_box.value)\n",
    "        display(x.text)\n",
    "\n",
    "button.on_click(on_post_button_clicked)"
   ],
   "metadata": {
    "collapsed": false
   }
  },
  {
   "cell_type": "markdown",
   "source": [],
   "metadata": {
    "collapsed": false
   }
  }
 ],
 "metadata": {
  "kernelspec": {
   "display_name": "Python 3",
   "language": "python",
   "name": "python3"
  },
  "language_info": {
   "codemirror_mode": {
    "name": "ipython",
    "version": 2
   },
   "file_extension": ".py",
   "mimetype": "text/x-python",
   "name": "python",
   "nbconvert_exporter": "python",
   "pygments_lexer": "ipython2",
   "version": "2.7.6"
  }
 },
 "nbformat": 4,
 "nbformat_minor": 0
}
